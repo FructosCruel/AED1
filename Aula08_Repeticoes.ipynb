{
 "cells": [
  {
   "cell_type": "markdown",
   "metadata": {},
   "source": [
    "![Algoritmos e Estrutura de Dados I](AED1_banner.jpg)"
   ]
  },
  {
   "cell_type": "markdown",
   "metadata": {},
   "source": [
    "## <font color='blue'>Algoritmos e Estrutura de Dados I</font>\n",
    "## <font color='blue'>Aula 8 -  Loop de Repetição - For e While</font>"
   ]
  },
  {
   "cell_type": "code",
   "execution_count": null,
   "metadata": {},
   "outputs": [],
   "source": [
    "# Versão da Linguagem Python\n",
    "from platform import python_version\n",
    "print('Versão da Linguagem Python Usada Neste Jupyter Notebook:', python_version())"
   ]
  },
  {
   "cell_type": "markdown",
   "metadata": {},
   "source": [
    "## Loop For"
   ]
  },
  {
   "cell_type": "markdown",
   "metadata": {},
   "source": [
    "![For](for.jpg)"
   ]
  },
  {
   "cell_type": "code",
   "execution_count": 1,
   "metadata": {},
   "outputs": [
    {
     "name": "stdout",
     "output_type": "stream",
     "text": [
      "2\n",
      "3\n",
      "4\n"
     ]
    }
   ],
   "source": [
    "# Criando uma tupla e imprimindo cada um dos valores\n",
    "tp = (2,3,4)\n",
    "for i in tp:\n",
    "    print(i)"
   ]
  },
  {
   "cell_type": "code",
   "execution_count": 3,
   "metadata": {},
   "outputs": [
    {
     "name": "stdout",
     "output_type": "stream",
     "text": [
      "Curso\n",
      "Superior\n",
      "de Tecnologia\n",
      "em Ciência\n",
      "de Dados\n"
     ]
    }
   ],
   "source": [
    "# Criando uma lista e imprimindo cada um dos valores\n",
    "ListaDeStrings = [\"Curso\", \"Superior\", \"de Tecnologia\", \"em Ciência\", \"de Dados\"]\n",
    "for i in ListaDeStrings:\n",
    "    print(i)"
   ]
  },
  {
   "cell_type": "code",
   "execution_count": 31,
   "metadata": {},
   "outputs": [
    {
     "name": "stdout",
     "output_type": "stream",
     "text": [
      "0\n",
      "1\n",
      "2\n",
      "3\n",
      "4\n",
      "5\n",
      "6\n",
      "7\n",
      "8\n",
      "9\n"
     ]
    }
   ],
   "source": [
    "# Imprimindo os valores no intervalo entre 0 e 5 (exclusive)\n",
    "for num in range(0,10):\n",
    "    print(num)"
   ]
  },
  {
   "cell_type": "code",
   "execution_count": 17,
   "metadata": {},
   "outputs": [
    {
     "name": "stdout",
     "output_type": "stream",
     "text": [
      "2\n",
      "4\n",
      "6\n",
      "8\n",
      "10\n",
      "22\n",
      "42\n",
      "102\n"
     ]
    }
   ],
   "source": [
    "# Imprimindo os números pares da lista de números\n",
    "lista = [1,2,3,4,5,6,7,8,9,10,22,42,102]\n",
    "for num in lista:\n",
    "    if num % 2 == 0:\n",
    "        print (num)"
   ]
  },
  {
   "cell_type": "code",
   "execution_count": 23,
   "metadata": {},
   "outputs": [
    {
     "name": "stdout",
     "output_type": "stream",
     "text": [
      "0\n",
      "2\n",
      "4\n",
      "6\n",
      "8\n",
      "10\n",
      "12\n",
      "14\n",
      "16\n",
      "18\n",
      "20\n",
      "22\n",
      "24\n",
      "26\n",
      "28\n",
      "30\n",
      "32\n",
      "34\n",
      "36\n",
      "38\n",
      "40\n",
      "42\n",
      "44\n",
      "46\n",
      "48\n",
      "50\n",
      "52\n",
      "54\n",
      "56\n",
      "58\n",
      "60\n",
      "62\n",
      "64\n",
      "66\n",
      "68\n",
      "70\n",
      "72\n",
      "74\n",
      "76\n",
      "78\n",
      "80\n",
      "82\n",
      "84\n",
      "86\n",
      "88\n",
      "90\n",
      "92\n",
      "94\n",
      "96\n",
      "98\n",
      "100\n"
     ]
    }
   ],
   "source": [
    "# Listando os números no intervalo entre 0 e 101, com incremento em 2\n",
    "for i in range(0,101,2):  \n",
    "    print(i)"
   ]
  },
  {
   "cell_type": "code",
   "execution_count": 25,
   "metadata": {},
   "outputs": [
    {
     "name": "stdout",
     "output_type": "stream",
     "text": [
      "E\n",
      "u\n",
      " \n",
      "v\n",
      "o\n",
      "u\n",
      " \n",
      "d\n",
      "o\n",
      "m\n",
      "i\n",
      "n\n",
      "a\n",
      "r\n",
      " \n",
      "P\n",
      "y\n",
      "t\n",
      "h\n",
      "o\n",
      "n\n",
      "!\n",
      " \n",
      "E\n",
      " \n",
      "s\n",
      "a\n",
      "b\n",
      "e\n",
      "r\n",
      " \n",
      "t\n",
      "u\n",
      "d\n",
      "o\n",
      " \n",
      "s\n",
      "o\n",
      "b\n",
      "r\n",
      "e\n",
      " \n",
      "C\n",
      "i\n",
      "ê\n",
      "n\n",
      "c\n",
      "i\n",
      "a\n",
      " \n",
      "d\n",
      "e\n",
      " \n",
      "D\n",
      "a\n",
      "d\n",
      "o\n",
      "s\n"
     ]
    }
   ],
   "source": [
    "# Strings também são sequências\n",
    "for caracter in 'Eu vou dominar Python! E saber tudo sobre Ciência de Dados':\n",
    "    print (caracter)"
   ]
  },
  {
   "cell_type": "markdown",
   "metadata": {},
   "source": [
    "## Loop For Aninhado"
   ]
  },
  {
   "cell_type": "code",
   "execution_count": 39,
   "metadata": {},
   "outputs": [
    {
     "name": "stdout",
     "output_type": "stream",
     "text": [
      "\n",
      " 0\n",
      "\n",
      " 0\n",
      "\n",
      " 0\n",
      "----\n",
      "\n",
      " 1\n",
      "\n",
      " 2\n",
      "\n",
      " 3\n",
      "----\n",
      "\n",
      " 2\n",
      "\n",
      " 4\n",
      "\n",
      " 6\n",
      "----\n",
      "\n",
      " 3\n",
      "\n",
      " 6\n",
      "\n",
      " 9\n",
      "----\n",
      "\n",
      " 4\n",
      "\n",
      " 8\n",
      "\n",
      " 12\n",
      "----\n"
     ]
    }
   ],
   "source": [
    "# Loops aninhados\n",
    "\n",
    "lista1 = [0,1,2,3,4]\n",
    "lista2 = [1,2,3]\n",
    "\n",
    "# Loop externo\n",
    "for elemento_lista1 in lista1:\n",
    "    \n",
    "    # Loop interno\n",
    "    for elemento_lista2 in lista2:\n",
    "        \n",
    "        print('\\n', elemento_lista1 * elemento_lista2)\n",
    "        \n",
    "    print('----')"
   ]
  },
  {
   "cell_type": "code",
   "execution_count": 41,
   "metadata": {},
   "outputs": [
    {
     "name": "stdout",
     "output_type": "stream",
     "text": [
      "O número 47 foi encontrado nas duas listas!\n"
     ]
    }
   ],
   "source": [
    "# O número 47 aparece nas duas listas?\n",
    "\n",
    "lista1 = [10,16,24,39,47]\n",
    "lista2 = [32,89,47,76,12]\n",
    "\n",
    "# Loop externo\n",
    "for elemento_lista1 in lista1:\n",
    "    \n",
    "    # Loop interno\n",
    "    for elemento_lista2 in lista2:\n",
    "        \n",
    "        # Condicional\n",
    "        if elemento_lista1 == 47 and elemento_lista2 == 47:\n",
    "            \n",
    "            print(\"O número 47 foi encontrado nas duas listas!\")"
   ]
  },
  {
   "cell_type": "code",
   "execution_count": 47,
   "metadata": {},
   "outputs": [
    {
     "name": "stdout",
     "output_type": "stream",
     "text": [
      "O soma dos números pares das duas listas é igual a 170\n"
     ]
    }
   ],
   "source": [
    "# Some os números pares da primeira lista com os números pares da segunda lista\n",
    "\n",
    "lista1 = [10,16,24,39,47]\n",
    "lista2 = [32,89,47,76,12]\n",
    "soma = 0\n",
    "\n",
    "# Loop externo\n",
    "for lista in [lista1, lista2]:\n",
    "    \n",
    "    # Loop interno\n",
    "    for num in lista:\n",
    "        \n",
    "        # Condicional\n",
    "        if num % 2 == 0:\n",
    "            soma += num\n",
    "            \n",
    "print(\"O soma dos números pares das duas listas é igual a\", soma)"
   ]
  },
  {
   "cell_type": "code",
   "execution_count": 49,
   "metadata": {},
   "outputs": [
    {
     "data": {
      "text/plain": [
       "[10, 16, 24, 39, 47, 32, 89, 47, 76, 12]"
      ]
     },
     "execution_count": 49,
     "metadata": {},
     "output_type": "execute_result"
    }
   ],
   "source": [
    "# Listas podem ser concatenadas em Python\n",
    "lista1 + lista2"
   ]
  },
  {
   "cell_type": "code",
   "execution_count": 51,
   "metadata": {},
   "outputs": [
    {
     "name": "stdout",
     "output_type": "stream",
     "text": [
      "Soma dos valores pares: 170\n"
     ]
    }
   ],
   "source": [
    "# Some os números pares da primeira lista com os números pares da segunda lista\n",
    "\n",
    "lista1 = [10,16,24,39,47]\n",
    "lista2 = [32,89,47,76,12]\n",
    "soma = 0\n",
    "\n",
    "for num in lista1 + lista2:\n",
    "    if num % 2 == 0:\n",
    "        soma += num\n",
    "\n",
    "print(\"Soma dos valores pares:\", soma)"
   ]
  },
  {
   "cell_type": "code",
   "execution_count": 59,
   "metadata": {},
   "outputs": [
    {
     "name": "stdout",
     "output_type": "stream",
     "text": [
      "Maior número: 215\n"
     ]
    }
   ],
   "source": [
    "# Loop em lista de listas (matrizes) para encontrar o maior número\n",
    "\n",
    "matriz = [[42, 23, 34], [100, 215, 114], [10.1, 98.7, 12.3]]\n",
    "maior_numero = 0\n",
    "\n",
    "# Loop externo\n",
    "for linha in matriz:\n",
    "    \n",
    "    # Loop interno\n",
    "    for num in linha:\n",
    "        \n",
    "        # Condicional\n",
    "        if num > maior_numero:\n",
    "            maior_numero = num\n",
    "\n",
    "print(\"Maior número:\", maior_numero)"
   ]
  },
  {
   "cell_type": "code",
   "execution_count": 61,
   "metadata": {},
   "outputs": [
    {
     "name": "stdout",
     "output_type": "stream",
     "text": [
      "k1\n",
      "k2\n",
      "k3\n"
     ]
    }
   ],
   "source": [
    "# Listando as chaves de um dicionário\n",
    "dict = {'k1':'Python','k2':'R','k3':'Scala'}\n",
    "for item in dict:\n",
    "    print(item)"
   ]
  },
  {
   "cell_type": "code",
   "execution_count": 63,
   "metadata": {},
   "outputs": [
    {
     "name": "stdout",
     "output_type": "stream",
     "text": [
      "k1 Python\n",
      "k2 R\n",
      "k3 Scala\n"
     ]
    }
   ],
   "source": [
    "# Imprimindo chave e valor do dicionário. Usando o método items() para retornar os itens de um dicionário\n",
    "for k,v in dict.items():\n",
    "    print (k,v)"
   ]
  },
  {
   "cell_type": "markdown",
   "metadata": {},
   "source": [
    "## Loop While"
   ]
  },
  {
   "cell_type": "markdown",
   "metadata": {},
   "source": [
    "![While](while.jpg)"
   ]
  },
  {
   "cell_type": "code",
   "execution_count": 69,
   "metadata": {},
   "outputs": [
    {
     "name": "stdout",
     "output_type": "stream",
     "text": [
      "0\n",
      "10\n",
      "20\n",
      "30\n",
      "40\n",
      "50\n",
      "60\n",
      "70\n",
      "80\n",
      "90\n"
     ]
    }
   ],
   "source": [
    "# Usando o loop while para imprimir os valores de 0 a 9\n",
    "# A condição tem que deixar de ser verdadeira dentro do loop, senão pode travar o navegador ou mesmo o computador\n",
    "valor = 0\n",
    "while valor < 100:\n",
    "    print(valor)\n",
    "    valor = valor + 10"
   ]
  },
  {
   "cell_type": "code",
   "execution_count": 81,
   "metadata": {},
   "outputs": [],
   "source": [
    "# Entra no loop somente se a condição for verdadeira\n",
    "valor = 11\n",
    "while valor < 10:\n",
    "    print(valor)\n",
    "    valor = valor + 1"
   ]
  },
  {
   "cell_type": "code",
   "execution_count": 83,
   "metadata": {},
   "outputs": [
    {
     "name": "stdout",
     "output_type": "stream",
     "text": [
      "O valor de x nesta iteração é:  0\n",
      " x ainda é menor que 10, somando 1 a x\n",
      "O valor de x nesta iteração é:  1\n",
      " x ainda é menor que 10, somando 1 a x\n",
      "O valor de x nesta iteração é:  2\n",
      " x ainda é menor que 10, somando 1 a x\n",
      "O valor de x nesta iteração é:  3\n",
      " x ainda é menor que 10, somando 1 a x\n",
      "O valor de x nesta iteração é:  4\n",
      " x ainda é menor que 10, somando 1 a x\n",
      "O valor de x nesta iteração é:  5\n",
      " x ainda é menor que 10, somando 1 a x\n",
      "O valor de x nesta iteração é:  6\n",
      " x ainda é menor que 10, somando 1 a x\n",
      "O valor de x nesta iteração é:  7\n",
      " x ainda é menor que 10, somando 1 a x\n",
      "O valor de x nesta iteração é:  8\n",
      " x ainda é menor que 10, somando 1 a x\n",
      "O valor de x nesta iteração é:  9\n",
      " x ainda é menor que 10, somando 1 a x\n",
      "Loop concluído!\n",
      "10\n"
     ]
    }
   ],
   "source": [
    "# Também é possível usar a claúsula else para encerrar o loop while\n",
    "x = 0\n",
    "\n",
    "while x < 10:\n",
    "    print ('O valor de x nesta iteração é: ', x)\n",
    "    print (' x ainda é menor que 10, somando 1 a x')\n",
    "    x += 1 \n",
    "else:\n",
    "    print ('Loop concluído!')\n",
    "print(x)"
   ]
  },
  {
   "cell_type": "markdown",
   "metadata": {},
   "source": [
    "### Pass, Break, Continue"
   ]
  },
  {
   "cell_type": "code",
   "execution_count": 89,
   "metadata": {},
   "outputs": [
    {
     "ename": "SyntaxError",
     "evalue": "incomplete input (2369945988.py, line 4)",
     "output_type": "error",
     "traceback": [
      "\u001b[1;36m  Cell \u001b[1;32mIn[89], line 4\u001b[1;36m\u001b[0m\n\u001b[1;33m    #n = n + 0\u001b[0m\n\u001b[1;37m              ^\u001b[0m\n\u001b[1;31mSyntaxError\u001b[0m\u001b[1;31m:\u001b[0m incomplete input\n"
     ]
    }
   ],
   "source": [
    "n=0\n",
    "while True:\n",
    "    #print(\"O ultimo valor de n é \", n)\n",
    "    n = n + 1"
   ]
  },
  {
   "cell_type": "code",
   "execution_count": 91,
   "metadata": {},
   "outputs": [
    {
     "name": "stdout",
     "output_type": "stream",
     "text": [
      "O ultimo valor de n é  0\n",
      "O ultimo valor de n é  1\n",
      "O ultimo valor de n é  2\n",
      "O ultimo valor de n é  3\n",
      "O ultimo valor de n é  4\n",
      "O ultimo valor de n é  5\n"
     ]
    }
   ],
   "source": [
    "n=0\n",
    "while True:\n",
    "    print(\"O ultimo valor de n é \", n)\n",
    "    n = n + 1\n",
    "    if n>5:\n",
    "        break"
   ]
  },
  {
   "cell_type": "code",
   "execution_count": 93,
   "metadata": {},
   "outputs": [
    {
     "name": "stdout",
     "output_type": "stream",
     "text": [
      "0\n",
      "1\n",
      "2\n",
      "3\n"
     ]
    }
   ],
   "source": [
    "# Se encontramos o número 4 interrompemos o loop\n",
    "valor = 0\n",
    "while valor < 10:\n",
    "    if valor == 4:\n",
    "        break\n",
    "    else:\n",
    "        pass\n",
    "    print(valor)\n",
    "    valor = valor + 1"
   ]
  },
  {
   "attachments": {},
   "cell_type": "markdown",
   "metadata": {},
   "source": [
    "Diferentemente do comando “break” que faz com que o fluxo de execução do loop seja interrompido, o comando “continue” desvia o fluxo de execução para o topo do comando (seja while ou for)\r\n"
   ]
  },
  {
   "cell_type": "markdown",
   "metadata": {},
   "source": [
    "![Continue](continue.jpg)"
   ]
  },
  {
   "cell_type": "code",
   "execution_count": 95,
   "metadata": {},
   "outputs": [
    {
     "name": "stdout",
     "output_type": "stream",
     "text": [
      "O ultimo valor de n é  1\n",
      "O ultimo valor de n é  3\n",
      "O ultimo valor de n é  5\n",
      "O ultimo valor de n é  7\n",
      "O ultimo valor de n é  9\n"
     ]
    }
   ],
   "source": [
    "n=0\n",
    "while True:\n",
    "    if (n%2)==0:\n",
    "        n = n + 1\n",
    "        continue\n",
    "    print(\"O ultimo valor de n é \", n)\n",
    "    n = n + 1\n",
    "    if n>9:\n",
    "        break"
   ]
  },
  {
   "cell_type": "code",
   "execution_count": 97,
   "metadata": {},
   "outputs": [
    {
     "name": "stdout",
     "output_type": "stream",
     "text": [
      "P\n",
      "y\n",
      "t\n",
      "h\n",
      "o\n",
      "n\n",
      " \n",
      "é\n",
      " \n",
      " \n",
      "i\n",
      "n\n",
      "c\n",
      "r\n",
      "í\n",
      "v\n",
      "e\n",
      "l\n",
      "!\n"
     ]
    }
   ],
   "source": [
    "# Desconsideramos a letra z ao imprimir os caracteres da frase\n",
    "for letra in \"Python é zzz incrível!\":\n",
    "    if letra == \"z\":\n",
    "        continue\n",
    "    print(letra)"
   ]
  },
  {
   "cell_type": "markdown",
   "metadata": {},
   "source": [
    "## While e For Juntos\n",
    "\n",
    "Vamos encontrar números primos em uma coleção de números usando loop While e For juntos.\n",
    "\n",
    "Um número primo é um número natural maior do que 1 que é divisível apenas por 1 e por ele mesmo. Isso significa que não há nenhum outro número inteiro que possa dividir o número primo sem deixar resto. Por exemplo, o número 2 é primo, pois é divisível apenas por 1 e 2. O número 4 não é primo, pois é divisível por 2.\n",
    "\n",
    "Aqui está o pseudocódigo:"
   ]
  },
  {
   "cell_type": "markdown",
   "metadata": {},
   "source": [
    "Inicialize uma lista vazia para armazenar os números primos\n",
    "Para cada número N entre 2 e 30:\n",
    "  Inicialize uma variável eh_primo como verdadeira\n",
    "  Para cada número i entre 2 e N/2:\n",
    "    Se N é divisível por i, então:\n",
    "      Altere a variável eh_primo para falso\n",
    "      Pare de verificar os outros números\n",
    "  Se a variável eh_primo ainda é verdadeira, adicione N à lista de números primos\n",
    "Imprima a lista de números primos"
   ]
  },
  {
   "cell_type": "code",
   "execution_count": 99,
   "metadata": {},
   "outputs": [
    {
     "name": "stdout",
     "output_type": "stream",
     "text": [
      "[2, 3, 5, 7, 11, 13, 17, 19, 23, 29]\n",
      "CPU times: total: 0 ns\n",
      "Wall time: 0 ns\n"
     ]
    }
   ],
   "source": [
    "%%time\n",
    "\n",
    "# Encontrando números primos entre 2 e 30 usando loop for e while\n",
    "\n",
    "# Variável para armazenar números primos\n",
    "primos = []\n",
    "\n",
    "# Loop for para percorrer números de 2 a 30\n",
    "for num in range(2, 31):\n",
    "    \n",
    "    # Variável de controle\n",
    "    eh_primo = True\n",
    "    \n",
    "    # Loop while para verificar se o número é primo\n",
    "    i = 2\n",
    "    while i <= num // 2:\n",
    "        if num % i == 0:\n",
    "            eh_primo = False\n",
    "            break\n",
    "        i += 1\n",
    "    \n",
    "    # Adicionando o número primo na lista\n",
    "    if eh_primo:\n",
    "        primos.append(num)\n",
    "\n",
    "# Imprimindo a lista de números primos\n",
    "print(primos)"
   ]
  },
  {
   "cell_type": "code",
   "execution_count": 101,
   "metadata": {},
   "outputs": [
    {
     "name": "stdout",
     "output_type": "stream",
     "text": [
      "2 é um número primo\n",
      "3 é um número primo\n",
      "5 é um número primo\n",
      "7 é um número primo\n",
      "11 é um número primo\n",
      "13 é um número primo\n",
      "17 é um número primo\n",
      "19 é um número primo\n",
      "23 é um número primo\n",
      "29 é um número primo\n",
      "CPU times: total: 0 ns\n",
      "Wall time: 0 ns\n"
     ]
    }
   ],
   "source": [
    "%%time\n",
    "\n",
    "# Encontrando números primos entre 2 e 30 usando loop for e while (outro exemplo)\n",
    "\n",
    "# Loop for para percorrer números de 2 a 30\n",
    "for i in range(2,31):\n",
    "    \n",
    "    # Variável de controle\n",
    "    j = 2\n",
    "    \n",
    "    # Contador\n",
    "    valor = 0\n",
    "    \n",
    "    # Loop while para verificar se o número é primo\n",
    "    while j < i:\n",
    "        if i % j == 0:\n",
    "            valor = 1\n",
    "            j = j + 1\n",
    "        else:\n",
    "            j = j + 1\n",
    "    \n",
    "    if valor == 0:\n",
    "        print(str(i) + \" é um número primo\")\n",
    "        valor = 0\n",
    "    else:\n",
    "        valor = 0"
   ]
  },
  {
   "cell_type": "markdown",
   "metadata": {},
   "source": [
    "## Função Range"
   ]
  },
  {
   "cell_type": "markdown",
   "metadata": {},
   "source": [
    "![Range](range.jpg)"
   ]
  },
  {
   "cell_type": "code",
   "execution_count": 103,
   "metadata": {},
   "outputs": [
    {
     "name": "stdout",
     "output_type": "stream",
     "text": [
      "1\n",
      "2\n",
      "3\n",
      "4\n",
      "5\n",
      "6\n",
      "7\n",
      "8\n",
      "9\n",
      "10\n"
     ]
    }
   ],
   "source": [
    "# Imprimindo números de 1 a10\n",
    "for i in range(1, 11):\n",
    "    print(i)"
   ]
  },
  {
   "cell_type": "code",
   "execution_count": 111,
   "metadata": {},
   "outputs": [
    {
     "name": "stdout",
     "output_type": "stream",
     "text": [
      "50\n",
      "55\n",
      "60\n",
      "65\n",
      "70\n",
      "75\n",
      "80\n",
      "85\n",
      "90\n",
      "95\n",
      "100\n"
     ]
    }
   ],
   "source": [
    "# Imprimindo números pares entre 50 e 101\n",
    "for i in range(50, 101, 5):\n",
    "    print(i)"
   ]
  },
  {
   "cell_type": "code",
   "execution_count": 115,
   "metadata": {},
   "outputs": [
    {
     "name": "stdout",
     "output_type": "stream",
     "text": [
      "0\n",
      "-2\n",
      "-4\n",
      "-6\n",
      "-8\n",
      "-10\n",
      "-12\n",
      "-14\n",
      "-16\n",
      "-18\n"
     ]
    }
   ],
   "source": [
    "# Imprimindo os números pares negativos entre 0 e -20\n",
    "for i in range(0, -20, -2):\n",
    "    print(i)"
   ]
  },
  {
   "cell_type": "code",
   "execution_count": 117,
   "metadata": {},
   "outputs": [
    {
     "name": "stdout",
     "output_type": "stream",
     "text": [
      "Abacaxi\n",
      "Banana\n",
      "Morango\n",
      "Uva\n"
     ]
    }
   ],
   "source": [
    "# Usando o tamanho de uma lista na função range()\n",
    "lista = ['Abacaxi', 'Banana', 'Morango', 'Uva']\n",
    "lista_tamanho = len(lista)\n",
    "for i in range(0, lista_tamanho):\n",
    "    print(lista[i])"
   ]
  },
  {
   "cell_type": "markdown",
   "metadata": {},
   "source": [
    "## Exercícios"
   ]
  },
  {
   "cell_type": "markdown",
   "metadata": {},
   "source": [
    "1. Faça um algoritmo que leia um valor N inteiro e positivo, calcule e mostre o valor E, conforme a fórmula a seguir.\n",
    "\n",
    "    E = (2 ** 1) + (2 ** 2) + (2 ** 3) + ... + (2 ** N)\n",
    "\n",
    "Resolva com for e depois while."
   ]
  },
  {
   "cell_type": "code",
   "execution_count": 127,
   "metadata": {},
   "outputs": [
    {
     "name": "stdin",
     "output_type": "stream",
     "text": [
      "Digite um valor N inteiro e positivo:  3\n"
     ]
    },
    {
     "name": "stdout",
     "output_type": "stream",
     "text": [
      "O valor de E é: 14\n"
     ]
    }
   ],
   "source": [
    "# Leitura do valor N\n",
    "N = int(input(\"Digite um valor N inteiro e positivo: \"))\n",
    "\n",
    "# Inicializando a variável E\n",
    "E = 0\n",
    "\n",
    "# Usando o loop for para calcular a soma das potências de 2\n",
    "for i in range(1, N + 1):\n",
    "    E += 2 ** i\n",
    "\n",
    "# Exibindo o resultado\n",
    "print(f\"O valor de E é: {E}\")\n"
   ]
  },
  {
   "cell_type": "code",
   "execution_count": 129,
   "metadata": {},
   "outputs": [
    {
     "name": "stdin",
     "output_type": "stream",
     "text": [
      "Digite um valor N inteiro e positivo:  3\n"
     ]
    },
    {
     "name": "stdout",
     "output_type": "stream",
     "text": [
      "O valor de E é: 14\n"
     ]
    }
   ],
   "source": [
    "# Leitura do valor N\n",
    "N = int(input(\"Digite um valor N inteiro e positivo: \"))\n",
    "\n",
    "# Inicializando as variáveis E e i\n",
    "E = 0\n",
    "i = 1\n",
    "\n",
    "# Usando o loop while para calcular a soma das potências de 2\n",
    "while i <= N:\n",
    "    E += 2 ** i\n",
    "    i += 1\n",
    "\n",
    "# Exibindo o resultado\n",
    "print(f\"O valor de E é: {E}\")\n"
   ]
  },
  {
   "cell_type": "markdown",
   "metadata": {},
   "source": [
    "2. Faça um algoritmo que leia o valor do peso e da altura de 5 pessoas. Ao final, o algoritmo deve mostrar:\n",
    "- O peso médio\n",
    "- A altura média\n",
    "- O maior e o menor IMC\n",
    "\n",
    "Obs: IMC (Índice de Massa Corporal) – calculado a partir da fórmula:    `IMC = massa / (altura * altura)`\n"
   ]
  },
  {
   "cell_type": "code",
   "execution_count": 135,
   "metadata": {},
   "outputs": [
    {
     "name": "stdout",
     "output_type": "stream",
     "text": [
      "Digite os dados da 1ª pessoa:\n"
     ]
    },
    {
     "name": "stdin",
     "output_type": "stream",
     "text": [
      "Peso (kg):  78\n",
      "Altura (m):  1\n"
     ]
    },
    {
     "name": "stdout",
     "output_type": "stream",
     "text": [
      "Digite os dados da 2ª pessoa:\n"
     ]
    },
    {
     "name": "stdin",
     "output_type": "stream",
     "text": [
      "Peso (kg):  80\n",
      "Altura (m):  1\n"
     ]
    },
    {
     "name": "stdout",
     "output_type": "stream",
     "text": [
      "Digite os dados da 3ª pessoa:\n"
     ]
    },
    {
     "name": "stdin",
     "output_type": "stream",
     "text": [
      "Peso (kg):  82\n",
      "Altura (m):  1\n"
     ]
    },
    {
     "name": "stdout",
     "output_type": "stream",
     "text": [
      "Digite os dados da 4ª pessoa:\n"
     ]
    },
    {
     "name": "stdin",
     "output_type": "stream",
     "text": [
      "Peso (kg):  84\n",
      "Altura (m):  1\n"
     ]
    },
    {
     "name": "stdout",
     "output_type": "stream",
     "text": [
      "Digite os dados da 5ª pessoa:\n"
     ]
    },
    {
     "name": "stdin",
     "output_type": "stream",
     "text": [
      "Peso (kg):  86\n",
      "Altura (m):  1\n"
     ]
    },
    {
     "name": "stdout",
     "output_type": "stream",
     "text": [
      "Média do peso: 82.00 kg\n",
      "Média da altura: 1.00 m\n",
      "Maior IMC: 86.00\n",
      "Menor IMC: 78.00\n"
     ]
    }
   ],
   "source": [
    "# Inicializando as variáveis\n",
    "total_peso = 0\n",
    "total_altura = 0\n",
    "maior_imc = 0\n",
    "menor_imc = float('inf')  # Um valor grande para garantir que qualquer IMC será menor\n",
    "\n",
    "# Loop para ler os dados das 5 pessoas\n",
    "for i in range(1, 6):\n",
    "    print(f\"Digite os dados da {i}ª pessoa:\")\n",
    "    peso = float(input(\"Peso (kg): \"))\n",
    "    altura = float(input(\"Altura (m): \"))\n",
    "    \n",
    "    # Calcular o IMC\n",
    "    imc = peso / (altura ** 2)\n",
    "    \n",
    "    # Atualizar o maior e o menor IMC\n",
    "    if imc > maior_imc:\n",
    "        maior_imc = imc\n",
    "    if imc < menor_imc:\n",
    "        menor_imc = imc\n",
    "    \n",
    "    # Acumulando o peso e a altura para calcular a média\n",
    "    total_peso += peso\n",
    "    total_altura += altura\n",
    "\n",
    "# Calculando a média do peso e da altura\n",
    "media_peso = total_peso / 5\n",
    "media_altura = total_altura / 5\n",
    "\n",
    "# Exibindo os resultados\n",
    "\n",
    "print(f\"Média do peso: {media_peso:.2f} kg\")\n",
    "print(f\"Média da altura: {media_altura:.2f} m\")\n",
    "print(f\"Maior IMC: {maior_imc:.2f}\")\n",
    "print(f\"Menor IMC: {menor_imc:.2f}\")"
   ]
  },
  {
   "cell_type": "markdown",
   "metadata": {},
   "source": [
    "3. Faça um programa que receba um número inteiro x. Calcule e mostre o fatorial desse número (x!)."
   ]
  },
  {
   "cell_type": "code",
   "execution_count": 137,
   "metadata": {},
   "outputs": [
    {
     "name": "stdin",
     "output_type": "stream",
     "text": [
      "Digite um número inteiro positivo:  3\n"
     ]
    },
    {
     "name": "stdout",
     "output_type": "stream",
     "text": [
      "O fatorial de 3 é 6\n"
     ]
    }
   ],
   "source": [
    "# Solução com for: \n",
    "#Leitura do número inteiro\n",
    "\n",
    "x = int(input(\"Digite um número inteiro positivo: \"))\n",
    "\n",
    "# Verificando se o número é válido\n",
    "if x < 0:\n",
    "    print(\"O número deve ser inteiro e positivo!\")\n",
    "else:\n",
    "    # Inicializando o fatorial como 1 (pois o fatorial de 0 ou 1 é 1)\n",
    "    fatorial = 1\n",
    "\n",
    "    # Calculando o fatorial com um loop for\n",
    "    for i in range(1, x + 1):\n",
    "        fatorial *= i\n",
    "\n",
    "    # Exibindo o resultado\n",
    "    print(f\"O fatorial de {x} é {fatorial}\")\n"
   ]
  },
  {
   "cell_type": "code",
   "execution_count": 141,
   "metadata": {},
   "outputs": [
    {
     "name": "stdin",
     "output_type": "stream",
     "text": [
      "Digite um número inteiro positivo:  3\n"
     ]
    },
    {
     "name": "stdout",
     "output_type": "stream",
     "text": [
      "O fatorial de 3 é 6\n"
     ]
    }
   ],
   "source": [
    "#Solução com while:\n",
    "\n",
    "# Leitura do número inteiro\n",
    "x = int(input(\"Digite um número inteiro positivo: \"))\n",
    "\n",
    "# Verificando se o número é válido\n",
    "if x < 0:\n",
    "    print(\"O número deve ser inteiro e positivo!\")\n",
    "else:\n",
    "    # Inicializando o fatorial como 1\n",
    "    fatorial = 1\n",
    "\n",
    "    # Inicializando o contador\n",
    "    contador = 1\n",
    "\n",
    "    # Calculando o fatorial com um loop while\n",
    "    while contador <= x:\n",
    "        fatorial *= contador\n",
    "        contador += 1\n",
    "\n",
    "    # Exibindo o resultado\n",
    "    print(f\"O fatorial de {x} é {fatorial}\")\n"
   ]
  },
  {
   "cell_type": "markdown",
   "metadata": {},
   "source": [
    "4. Faça um programa que calcule os 10 primeiros números da sequencia de Fibonacci"
   ]
  },
  {
   "cell_type": "code",
   "execution_count": 157,
   "metadata": {},
   "outputs": [
    {
     "name": "stdout",
     "output_type": "stream",
     "text": [
      "Os 10 primeiros números da sequência de Fibonacci são:\n",
      "0 * 1 * 1 * 2 * 3 * 5 * 8 * 13 * 21 * 34 * "
     ]
    }
   ],
   "source": [
    "# Inicializando os dois primeiros números da sequência\n",
    "n1, n2 = 0, 1\n",
    "\n",
    "# Exibindo os 10 primeiros números da sequência\n",
    "print(\"Os 10 primeiros números da sequência de Fibonacci são:\")\n",
    "for i in range(10):\n",
    "    print(n1, end=\" * \")\n",
    "    # Atualizando os valores para o próximo número\n",
    "    n1, n2 = n2, n1 + n2\n"
   ]
  },
  {
   "cell_type": "code",
   "execution_count": 159,
   "metadata": {},
   "outputs": [
    {
     "name": "stdout",
     "output_type": "stream",
     "text": [
      "Os 10 primeiros números da sequência de Fibonacci são:\n",
      "0 * 1 * 1 * 2 * 3 * 5 * 8 * 13 * 21 * 34 * "
     ]
    }
   ],
   "source": [
    "# Inicializando os dois primeiros números da sequência\n",
    "n1, n2 = 0, 1\n",
    "contador = 0\n",
    "\n",
    "print(\"Os 10 primeiros números da sequência de Fibonacci são:\")\n",
    "\n",
    "# Loop para calcular os 10 primeiros números\n",
    "while contador < 10:\n",
    "    print(n1, end=\" * \")\n",
    "    # Atualizando os valores para o próximo número\n",
    "    n1, n2 = n2, n1 + n2\n",
    "    contador += 1\n"
   ]
  },
  {
   "cell_type": "markdown",
   "metadata": {},
   "source": [
    "5. Faça um programa que leia o valor de um número inteiro (n) e mostre os (n) números primos a partir do número 1."
   ]
  },
  {
   "cell_type": "code",
   "execution_count": 175,
   "metadata": {},
   "outputs": [
    {
     "name": "stdin",
     "output_type": "stream",
     "text": [
      "Digite a quantidade de números primos desejada:  10\n"
     ]
    },
    {
     "name": "stdout",
     "output_type": "stream",
     "text": [
      "Os 10 primeiros números primos são: [2, 3, 5, 7, 11, 13, 17, 19, 23, 29]\n"
     ]
    }
   ],
   "source": [
    "# Leitura da quantidade de números primos desejados\n",
    "n = int(input(\"Digite a quantidade de números primos desejada: \"))\n",
    "\n",
    "# Lista para armazenar os números primos\n",
    "primos = []\n",
    "\n",
    "# Iniciando a variável para verificar os números\n",
    "num = 2  # O menor número primo é 2\n",
    "\n",
    "# Loop para encontrar os n números primos\n",
    "while len(primos) < n:\n",
    "    # Verificar se o número atual é primo\n",
    "    is_primo = True\n",
    "    for i in range(2, int(num ** 0.5) + 1):  # Testa divisores de 2 até a raiz quadrada do número\n",
    "        if num % i == 0:\n",
    "            is_primo = False\n",
    "            break\n",
    "    # Se for primo, adiciona à lista\n",
    "    if is_primo:\n",
    "        primos.append(num)\n",
    "    # Incrementa para verificar o próximo número\n",
    "    num += 1\n",
    "\n",
    "# Exibindo os números primos encontrados\n",
    "print(f\"Os {n} primeiros números primos são: {primos}\")\n",
    "\n",
    "    \n"
   ]
  },
  {
   "cell_type": "markdown",
   "metadata": {},
   "source": [
    "## FIM da Aula 8"
   ]
  }
 ],
 "metadata": {
  "kernelspec": {
   "display_name": "Python 3 (ipykernel)",
   "language": "python",
   "name": "python3"
  },
  "language_info": {
   "codemirror_mode": {
    "name": "ipython",
    "version": 3
   },
   "file_extension": ".py",
   "mimetype": "text/x-python",
   "name": "python",
   "nbconvert_exporter": "python",
   "pygments_lexer": "ipython3",
   "version": "3.12.7"
  }
 },
 "nbformat": 4,
 "nbformat_minor": 4
}
