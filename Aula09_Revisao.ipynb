{
 "cells": [
  {
   "cell_type": "markdown",
   "metadata": {},
   "source": [
    "![Algoritmos e Estrutura de Dados I](AED1_banner.jpg)"
   ]
  },
  {
   "cell_type": "markdown",
   "metadata": {},
   "source": [
    "## <font color='blue'>Algoritmos e Estrutura de Dados I</font>\n",
    "## <font color='blue'>Aula 9 -  Revisão</font>"
   ]
  },
  {
   "cell_type": "code",
   "execution_count": null,
   "metadata": {},
   "outputs": [],
   "source": [
    "# Versão da Linguagem Python\n",
    "from platform import python_version\n",
    "print('Versão da Linguagem Python Usada Neste Jupyter Notebook:', python_version())"
   ]
  },
  {
   "cell_type": "markdown",
   "metadata": {},
   "source": [
    "## Estrutura sequencial"
   ]
  },
  {
   "cell_type": "markdown",
   "metadata": {},
   "source": [
    "Escreva um programa em Python que solicite ao usuário o valor de dois números, calcule e exiba a soma deles."
   ]
  },
  {
   "cell_type": "code",
   "execution_count": 5,
   "metadata": {},
   "outputs": [
    {
     "name": "stdin",
     "output_type": "stream",
     "text": [
      "Digite numero x1:  2\n",
      "Digite numero x1:  2\n"
     ]
    },
    {
     "name": "stdout",
     "output_type": "stream",
     "text": [
      "A soma de 2.0 e 2.0 resulta 4.0\n"
     ]
    }
   ],
   "source": [
    "x1=float(input(\"Digite numero x1: \"))\n",
    "x2=float(input(\"Digite numero x1: \"))\n",
    "soma=x1+x2\n",
    "print(\"A soma de\", x1, \"e\", x2, \"resulta\",soma)\n"
   ]
  },
  {
   "attachments": {},
   "cell_type": "markdown",
   "metadata": {},
   "source": [
    "Escreva um programa em Python que solicite ao usuário a temperatura em graus Celsius e converta para Fahrenheit. A fórmula para conversão é F = C * 9/5 + 32.\n"
   ]
  },
  {
   "cell_type": "code",
   "execution_count": 11,
   "metadata": {},
   "outputs": [
    {
     "name": "stdin",
     "output_type": "stream",
     "text": [
      "Digite a temperatura ºC :  25\n"
     ]
    },
    {
     "name": "stdout",
     "output_type": "stream",
     "text": [
      " A temperatura de 25.0ºC é igual a 77.0ºF. \n"
     ]
    }
   ],
   "source": [
    "Celsius= float(input(\"Digite a temperatura ºC : \"))\n",
    "\n",
    "fahrenheit=(Celsius *9/5)+32\n",
    "\n",
    "print(f\" A temperatura de {Celsius}ºC é igual a {fahrenheit}ºF. \")\n"
   ]
  },
  {
   "cell_type": "markdown",
   "metadata": {},
   "source": [
    "## Estrutura Condicional"
   ]
  },
  {
   "cell_type": "markdown",
   "metadata": {},
   "source": [
    "Escreva um programa em Python que solicite ao usuário um número e verifique se ele é positivo, negativo ou zero. Exiba a mensagem correspondente.\n"
   ]
  },
  {
   "cell_type": "code",
   "execution_count": 31,
   "metadata": {},
   "outputs": [
    {
     "name": "stdin",
     "output_type": "stream",
     "text": [
      "Digite Número: -3\n"
     ]
    },
    {
     "name": "stdout",
     "output_type": "stream",
     "text": [
      "O numero, -3.0 é Negativo.\n"
     ]
    }
   ],
   "source": [
    "numero = float(input(\"Digite Número:\"))\n",
    "# Verifica se o número é positivo, negativo ou zero\n",
    "if numero >0:\n",
    "    print(f\"O numero, {numero} é Positivo.\")\n",
    "elif numero <0:\n",
    "    print(f\"O numero, {numero} é Negativo.\")\n",
    "else:\n",
    "    print(f\"O numero, {numero} não é Positivo e nem Negativo.\")\n"
   ]
  },
  {
   "cell_type": "markdown",
   "metadata": {},
   "source": [
    "Escreva um programa em Python que solicite ao usuário três números e determine qual é o maior entre eles.\n"
   ]
  },
  {
   "cell_type": "code",
   "execution_count": 41,
   "metadata": {},
   "outputs": [
    {
     "name": "stdin",
     "output_type": "stream",
     "text": [
      "Digite o num1:  2\n",
      "Digite o num2:  4\n",
      "Digite o num3:  5\n"
     ]
    },
    {
     "name": "stdout",
     "output_type": "stream",
     "text": [
      "O maior numero é 5\n"
     ]
    }
   ],
   "source": [
    "num1 = int(input(\"Digite o num1: \"))\n",
    "num2 = int(input(\"Digite o num2: \"))\n",
    "num3 = int(input(\"Digite o num3: \"))\n",
    "# Verifica qual é o maior número\n",
    "if num1 >= num2 and num1 >= num3 :\n",
    "    print(f\"O maior numero é {num1}\")\n",
    "elif num2 >= num1 and num2 >= num3 :\n",
    "    print(f\"O maior numero é {num2}\")\n",
    "else:\n",
    "    print(f\"O maior numero é {num3}\")\n",
    "    \n"
   ]
  },
  {
   "cell_type": "markdown",
   "metadata": {},
   "source": [
    "## Estrutura de Repetição"
   ]
  },
  {
   "cell_type": "markdown",
   "metadata": {},
   "source": [
    "Escreva um programa em Python que exiba todos os números de 1 a 10.\n"
   ]
  },
  {
   "cell_type": "code",
   "execution_count": 75,
   "metadata": {},
   "outputs": [
    {
     "name": "stdout",
     "output_type": "stream",
     "text": [
      "1\n",
      "2\n",
      "3\n",
      "4\n",
      "5\n"
     ]
    }
   ],
   "source": [
    "for numero in range (1, 6):\n",
    "    print(numero)\n"
   ]
  },
  {
   "cell_type": "markdown",
   "metadata": {},
   "source": [
    "Escreva um programa em Python que solicite ao usuário um número inteiro positivo e calcule o fatorial desse número.\n"
   ]
  },
  {
   "cell_type": "code",
   "execution_count": 73,
   "metadata": {},
   "outputs": [
    {
     "name": "stdin",
     "output_type": "stream",
     "text": [
      "Digite um número inteiro positivo:  5\n"
     ]
    },
    {
     "name": "stdout",
     "output_type": "stream",
     "text": [
      "O fatorial de 5 é 120.\n"
     ]
    }
   ],
   "source": [
    "numero = int(input(\"Digite um número inteiro positivo: \"))\n",
    "if numero < 0:\n",
    "    print(\"Por favor, digite um número inteiro positivo.\")\n",
    "else:\n",
    "    fatorial = 1\n",
    "    for i in range (1, numero +1 ):\n",
    "        fatorial *=i\n",
    "\n",
    "    print(f\"O fatorial de {numero} é {fatorial}.\")\n"
   ]
  },
  {
   "cell_type": "markdown",
   "metadata": {},
   "source": [
    "## Geral"
   ]
  },
  {
   "cell_type": "markdown",
   "metadata": {},
   "source": [
    "Você é um cientista de dados e precisa analisar as notas de um conjunto de estudantes em uma disciplina. Você deverá escrever um programa em Python que solicite ao usuário o número de estudantes e, em seguida, as notas desses estudantes. O programa deve calcular e exibir:\n",
    "\n",
    "- A média das notas.\n",
    "- A maior e a menor nota.\n",
    "- O número de estudantes aprovados (nota maior ou igual a 6) e reprovados (nota menor que 6).\n",
    "\n",
    "Regras:\n",
    "\n",
    "- Utilize variáveis simples para armazenar as informações.\n",
    "- Utilize estruturas de repetição para coletar as notas dos estudantes.\n",
    "- Utilize estruturas condicionais para determinar o status de aprovação dos estudantes."
   ]
  },
  {
   "cell_type": "code",
   "execution_count": 83,
   "metadata": {},
   "outputs": [
    {
     "name": "stdin",
     "output_type": "stream",
     "text": [
      "Digite o número de estudantes:  5\n",
      "Digite a nota do estudante 1:  9\n",
      "Digite a nota do estudante 2:  8\n",
      "Digite a nota do estudante 3:  5\n",
      "Digite a nota do estudante 4:  6\n",
      "Digite a nota do estudante 5:  8\n"
     ]
    },
    {
     "name": "stdout",
     "output_type": "stream",
     "text": [
      "\n",
      "Média das notas: 7.20\n",
      "Maior nota: 9.0\n",
      "Menor nota: 5.0\n",
      "Número de estudantes aprovados: 4\n",
      "Número de estudantes reprovados: 1\n"
     ]
    }
   ],
   "source": [
    "# Solicita ao usuário o número de estudantes\n",
    "num_estudantes = int(input(\"Digite o número de estudantes: \"))\n",
    "\n",
    "# Inicializa variáveis para armazenar a soma das notas, a maior e a menor nota, \n",
    "# e o número de aprovados e reprovados\n",
    "\n",
    "soma_notas = 0\n",
    "maior_nota = -1  # Inicializa com um valor menor que qualquer nota possível\n",
    "menor_nota = 11  # Inicializa com um valor maior que qualquer nota possível\n",
    "aprovados = 0\n",
    "reprovados = 0\n",
    "\n",
    "# Laço para coletar as notas dos estudantes\n",
    "for i in range(num_estudantes):\n",
    "    nota = float(input(f\"Digite a nota do estudante {i+1}: \"))\n",
    "    # Atualiza a soma das notas\n",
    "    soma_notas += nota\n",
    "     # Atualiza a maior e a menor nota\n",
    "    if nota > maior_nota:\n",
    "        maior_nota = nota\n",
    "    if nota < menor_nota:\n",
    "        menor_nota = nota\n",
    "    # Verifica se o estudante foi aprovado ou reprovado\n",
    "    if nota >= 6:\n",
    "        aprovados += 1\n",
    "    else:\n",
    "        reprovados += 1\n",
    "\n",
    "# Calcula a média das notas\n",
    "media = soma_notas / num_estudantes\n",
    "\n",
    "# Exibe os resultados\n",
    "print(f\"\\nMédia das notas: {media:.2f}\")\n",
    "print(f\"Maior nota: {maior_nota}\")\n",
    "print(f\"Menor nota: {menor_nota}\")\n",
    "print(f\"Número de estudantes aprovados: {aprovados}\")\n",
    "print(f\"Número de estudantes reprovados: {reprovados}\")\n",
    "\n"
   ]
  },
  {
   "cell_type": "markdown",
   "metadata": {},
   "source": [
    "Faça um programa que receba um número inteiro positivo e transforme esse número para binário."
   ]
  },
  {
   "cell_type": "code",
   "execution_count": 85,
   "metadata": {},
   "outputs": [
    {
     "name": "stdin",
     "output_type": "stream",
     "text": [
      "Digite um número inteiro positivo:  5\n"
     ]
    },
    {
     "name": "stdout",
     "output_type": "stream",
     "text": [
      "O número 5 em binário é: 101\n"
     ]
    }
   ],
   "source": [
    "# Solicita ao usuário um número inteiro positivo\n",
    "numero = int(input(\"Digite um número inteiro positivo: \"))\n",
    "\n",
    "# Verifica se o número é positivo\n",
    "if numero < 0:\n",
    "    print(\"Por favor, digite um número inteiro positivo.\")\n",
    "else:\n",
    "    # Converte o número para binário usando a função bin()\n",
    "    binario = bin(numero)[2:]  # O [2:] remove o prefixo '0b' que a função bin() retorna\n",
    "    \n",
    "    # Exibe o número em binário\n",
    "    print(f\"O número {numero} em binário é: {binario}\")"
   ]
  },
  {
   "cell_type": "markdown",
   "metadata": {},
   "source": [
    "## Fim da Aula 9"
   ]
  }
 ],
 "metadata": {
  "kernelspec": {
   "display_name": "Python 3 (ipykernel)",
   "language": "python",
   "name": "python3"
  },
  "language_info": {
   "codemirror_mode": {
    "name": "ipython",
    "version": 3
   },
   "file_extension": ".py",
   "mimetype": "text/x-python",
   "name": "python",
   "nbconvert_exporter": "python",
   "pygments_lexer": "ipython3",
   "version": "3.12.7"
  }
 },
 "nbformat": 4,
 "nbformat_minor": 4
}
